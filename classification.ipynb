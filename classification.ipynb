{
 "cells": [
  {
   "cell_type": "code",
   "execution_count": 14,
   "metadata": {},
   "outputs": [],
   "source": [
    "import os\n",
    "import shutil\n",
    "import pandas as pd\n",
    "\n",
    "# Define paths\n",
    "base_dir = \"classification-data\"\n",
    "yolo_dir = os.path.join(base_dir, \"yolo\")  \n",
    "splits = [\"train\", \"valid\", \"test\"] \n",
    "classes = ['Implant', 'Fillings', 'Impacted Tooth', 'Cavity']\n",
    "class_to_id = {cls: idx for idx, cls in enumerate(classes)}\n",
    "\n",
    "# Conversion function\n",
    "def convert_to_yolo_format(row, img_width, img_height):\n",
    "    x_center = (row['xmin'] + row['xmax']) / 2 / img_width\n",
    "    y_center = (row['ymin'] + row['ymax']) / 2 / img_height\n",
    "    width = (row['xmax'] - row['xmin']) / img_width\n",
    "    height = (row['ymax'] - row['ymin']) / img_height\n",
    "    class_id = class_to_id[row['class']]\n",
    "    return f\"{class_id} {x_center} {y_center} {width} {height}\"\n",
    "\n",
    "os.makedirs(yolo_dir, exist_ok=True)\n",
    "\n",
    "def rename_image(filename):\n",
    "    return filename.split('_jpg')[0] + '_.jpg'\n",
    "\n",
    "# Process each split\n",
    "for split in splits:\n",
    "    split_dir = os.path.join(base_dir, split)\n",
    "    annotations_file = os.path.join(split_dir, \"_annotations.csv\")\n",
    "    annotations = pd.read_csv(annotations_file)\n",
    "\n",
    "    # YOLO-specific directories\n",
    "    yolo_split_dir = os.path.join(yolo_dir, split)\n",
    "    images_dir = os.path.join(yolo_split_dir, \"images\")\n",
    "    labels_dir = os.path.join(yolo_split_dir, \"labels\")\n",
    "    os.makedirs(images_dir, exist_ok=True)\n",
    "    os.makedirs(labels_dir, exist_ok=True)\n",
    "\n",
    "    # Copy images and generate YOLO labels\n",
    "    for _, row in annotations.iterrows():\n",
    "        # Rename image\n",
    "        new_filename = rename_image(row['filename'])\n",
    "\n",
    "        # Copy image to YOLO images folder with new name\n",
    "        src_image_path = os.path.join(split_dir, row['filename'])\n",
    "        dst_image_path = os.path.join(images_dir, new_filename)\n",
    "        shutil.copy(src_image_path, dst_image_path)\n",
    "\n",
    "        # Create YOLO label file with the new image name\n",
    "        label_file = os.path.join(labels_dir, f\"{new_filename.split('.')[0]}.txt\")\n",
    "        with open(label_file, \"w\") as f:\n",
    "            yolo_line = convert_to_yolo_format(\n",
    "                row, row['width'], row['height']\n",
    "            )\n",
    "            f.write(yolo_line + \"\\n\")\n"
   ]
  },
  {
   "cell_type": "code",
   "execution_count": 8,
   "metadata": {},
   "outputs": [
    {
     "data": {
      "text/plain": [
       "array(['Implant', 'Fillings', 'Impacted Tooth', 'Cavity'], dtype=object)"
      ]
     },
     "execution_count": 8,
     "metadata": {},
     "output_type": "execute_result"
    }
   ],
   "source": [
    "import pandas as pd\n",
    "\n",
    "df = pd.read_csv(\"classification-data/train/_annotations.csv\")\n",
    "df['class'].unique()"
   ]
  },
  {
   "cell_type": "code",
   "execution_count": null,
   "metadata": {},
   "outputs": [],
   "source": [
    "\n",
    "\n"
   ]
  }
 ],
 "metadata": {
  "kernelspec": {
   "display_name": "base",
   "language": "python",
   "name": "python3"
  },
  "language_info": {
   "codemirror_mode": {
    "name": "ipython",
    "version": 3
   },
   "file_extension": ".py",
   "mimetype": "text/x-python",
   "name": "python",
   "nbconvert_exporter": "python",
   "pygments_lexer": "ipython3",
   "version": "3.12.7"
  }
 },
 "nbformat": 4,
 "nbformat_minor": 2
}
