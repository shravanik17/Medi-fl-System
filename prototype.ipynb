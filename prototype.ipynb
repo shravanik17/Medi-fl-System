{
 "cells": [
  {
   "cell_type": "code",
   "execution_count": 1,
   "metadata": {},
   "outputs": [],
   "source": [
    "from ultralytics import YOLO"
   ]
  },
  {
   "cell_type": "code",
   "execution_count": 2,
   "metadata": {},
   "outputs": [],
   "source": [
    "model_path = \"server/model/best_wt.pt\"\n",
    "model = YOLO(model=model_path)"
   ]
  },
  {
   "cell_type": "code",
   "execution_count": 3,
   "metadata": {},
   "outputs": [
    {
     "name": "stdout",
     "output_type": "stream",
     "text": [
      "\n",
      "image 1/1 d:\\BE Project\\application\\opg-data\\data\\test\\images\\77_jpg.rf.c4454db6f13c687c33b3527c2ed1c34d.jpg: 288x640 2 cas, 287.1ms\n",
      "Speed: 9.4ms preprocess, 287.1ms inference, 24.4ms postprocess per image at shape (1, 3, 288, 640)\n",
      "Results saved to \u001b[1mruns\\detect\\predict\u001b[0m\n",
      "tensor([[289.9132, 115.9130, 315.6874, 151.1753],\n",
      "        [221.8280, 113.1806, 249.3708, 144.9700]])\n",
      "Confidence Scores: tensor([0.3712, 0.2724])\n",
      "Class Indices: tensor([0., 0.])\n"
     ]
    }
   ],
   "source": [
    "# Perform prediction on a random image\n",
    "results = model.predict(source='./opg-data/data/test/images/77_jpg.rf.c4454db6f13c687c33b3527c2ed1c34d.jpg', save=True) \n",
    "print(results[0].boxes.xyxy)\n",
    "print(\"Confidence Scores:\", results[0].boxes.conf)\n",
    "print(\"Class Indices:\", results[0].boxes.cls)"
   ]
  },
  {
   "cell_type": "code",
   "execution_count": null,
   "metadata": {},
   "outputs": [],
   "source": []
  }
 ],
 "metadata": {
  "kernelspec": {
   "display_name": "base",
   "language": "python",
   "name": "python3"
  },
  "language_info": {
   "codemirror_mode": {
    "name": "ipython",
    "version": 3
   },
   "file_extension": ".py",
   "mimetype": "text/x-python",
   "name": "python",
   "nbconvert_exporter": "python",
   "pygments_lexer": "ipython3",
   "version": "3.12.7"
  }
 },
 "nbformat": 4,
 "nbformat_minor": 2
}
